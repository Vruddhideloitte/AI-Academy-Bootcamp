{
  "nbformat": 4,
  "nbformat_minor": 0,
  "metadata": {
    "colab": {
      "provenance": []
    },
    "kernelspec": {
      "name": "python3",
      "display_name": "Python 3"
    },
    "language_info": {
      "name": "python"
    }
  },
  "cells": [
    {
      "cell_type": "code",
      "execution_count": null,
      "metadata": {
        "colab": {
          "base_uri": "https://localhost:8080/"
        },
        "id": "7YOCERewWX3h",
        "outputId": "9f36e5b4-d4f0-4f34-b9c5-8404611931b8"
      },
      "outputs": [
        {
          "output_type": "stream",
          "name": "stdout",
          "text": [
            "hello world\n"
          ]
        }
      ],
      "source": [
        "print(\"hello world\")"
      ]
    },
    {
      "cell_type": "code",
      "source": [
        "uName = \"V\"\n",
        "company = \"Deloitte\"\n",
        "\n",
        "print(\"Hey user\", uName)"
      ],
      "metadata": {
        "colab": {
          "base_uri": "https://localhost:8080/"
        },
        "id": "Z_YJM0QPWio1",
        "outputId": "eeaf405e-a879-466b-b17b-5a39a33c8703"
      },
      "execution_count": null,
      "outputs": [
        {
          "output_type": "stream",
          "name": "stdout",
          "text": [
            "Hey user V\n"
          ]
        }
      ]
    },
    {
      "cell_type": "code",
      "source": [
        "print(\"My company is \", company)"
      ],
      "metadata": {
        "colab": {
          "base_uri": "https://localhost:8080/"
        },
        "id": "AvXnQ2qeY3Pq",
        "outputId": "bdcd0071-cce1-4ba2-b2ac-c1e5e8fac601"
      },
      "execution_count": null,
      "outputs": [
        {
          "output_type": "stream",
          "name": "stdout",
          "text": [
            "My company is  Deloitte\n"
          ]
        }
      ]
    },
    {
      "cell_type": "code",
      "source": [
        "userName = \"Tushargoyal\"\n",
        "greeting = f\"hi user {userName}\"\n",
        "\n",
        "print(greeting)"
      ],
      "metadata": {
        "colab": {
          "base_uri": "https://localhost:8080/"
        },
        "id": "IIwsoj6GY_4P",
        "outputId": "ec5f3bbf-fb55-4ed2-d867-ea4e4c68867e"
      },
      "execution_count": null,
      "outputs": [
        {
          "output_type": "stream",
          "name": "stdout",
          "text": [
            "hi user Tushargoyal\n"
          ]
        }
      ]
    },
    {
      "cell_type": "code",
      "source": [
        "userName = \"Omkar\"\n",
        "\n",
        "print(greeting)"
      ],
      "metadata": {
        "colab": {
          "base_uri": "https://localhost:8080/"
        },
        "id": "xwVulpzGZknD",
        "outputId": "3dfd47ba-08ec-4654-a798-c2f027628bd4"
      },
      "execution_count": null,
      "outputs": [
        {
          "output_type": "stream",
          "name": "stdout",
          "text": [
            "hi user Tushargoyal\n"
          ]
        }
      ]
    },
    {
      "cell_type": "code",
      "source": [
        "1+3*5/2-2"
      ],
      "metadata": {
        "colab": {
          "base_uri": "https://localhost:8080/"
        },
        "id": "39rLm4oRZ0Gh",
        "outputId": "c9395ea8-d300-4b08-b993-2ec5f867e048"
      },
      "execution_count": null,
      "outputs": [
        {
          "output_type": "execute_result",
          "data": {
            "text/plain": [
              "6.5"
            ]
          },
          "metadata": {},
          "execution_count": 7
        }
      ]
    },
    {
      "cell_type": "code",
      "source": [
        "2*3//2%2**3/2"
      ],
      "metadata": {
        "colab": {
          "base_uri": "https://localhost:8080/"
        },
        "id": "XDg7yJ-XbPTs",
        "outputId": "07f6bed1-4ae5-4919-e4ed-51f4f6348a76"
      },
      "execution_count": null,
      "outputs": [
        {
          "output_type": "execute_result",
          "data": {
            "text/plain": [
              "1.5"
            ]
          },
          "metadata": {},
          "execution_count": 9
        }
      ]
    },
    {
      "cell_type": "code",
      "source": [
        "2**3**2"
      ],
      "metadata": {
        "colab": {
          "base_uri": "https://localhost:8080/"
        },
        "id": "pyXOwSQNbgZE",
        "outputId": "a026271d-3c96-408e-fca2-db5fc2c1c773"
      },
      "execution_count": null,
      "outputs": [
        {
          "output_type": "execute_result",
          "data": {
            "text/plain": [
              "512"
            ]
          },
          "metadata": {},
          "execution_count": 10
        }
      ]
    },
    {
      "cell_type": "code",
      "source": [
        "10 << 1"
      ],
      "metadata": {
        "colab": {
          "base_uri": "https://localhost:8080/"
        },
        "id": "TsYCol9BcW15",
        "outputId": "ebcfdbe2-f55e-4029-d933-54eeac8edad9"
      },
      "execution_count": null,
      "outputs": [
        {
          "output_type": "execute_result",
          "data": {
            "text/plain": [
              "20"
            ]
          },
          "metadata": {},
          "execution_count": 11
        }
      ]
    },
    {
      "cell_type": "code",
      "source": [
        "state = \"Rajasthan\"\n",
        "\n",
        "state[0:2]"
      ],
      "metadata": {
        "colab": {
          "base_uri": "https://localhost:8080/",
          "height": 35
        },
        "id": "05v4WWK8iOeQ",
        "outputId": "352bd8e5-5f20-4adc-c03b-e360cd9c243e"
      },
      "execution_count": null,
      "outputs": [
        {
          "output_type": "execute_result",
          "data": {
            "text/plain": [
              "'Ra'"
            ],
            "application/vnd.google.colaboratory.intrinsic+json": {
              "type": "string"
            }
          },
          "metadata": {},
          "execution_count": 17
        }
      ]
    },
    {
      "cell_type": "code",
      "source": [
        "state[0:]"
      ],
      "metadata": {
        "colab": {
          "base_uri": "https://localhost:8080/",
          "height": 35
        },
        "id": "GRDC5rE2i2bU",
        "outputId": "2015b54d-995f-4e99-ae72-91bddc8425e2"
      },
      "execution_count": null,
      "outputs": [
        {
          "output_type": "execute_result",
          "data": {
            "text/plain": [
              "'Rajasthan'"
            ],
            "application/vnd.google.colaboratory.intrinsic+json": {
              "type": "string"
            }
          },
          "metadata": {},
          "execution_count": 20
        }
      ]
    },
    {
      "cell_type": "code",
      "source": [
        "state[:5]"
      ],
      "metadata": {
        "colab": {
          "base_uri": "https://localhost:8080/",
          "height": 35
        },
        "id": "fnnMfSRLi85R",
        "outputId": "56b21915-2cd9-4bb5-96b9-53b6581c9140"
      },
      "execution_count": null,
      "outputs": [
        {
          "output_type": "execute_result",
          "data": {
            "text/plain": [
              "'Rajas'"
            ],
            "application/vnd.google.colaboratory.intrinsic+json": {
              "type": "string"
            }
          },
          "metadata": {},
          "execution_count": 21
        }
      ]
    },
    {
      "cell_type": "code",
      "source": [
        "state[-1:-5:-1]"
      ],
      "metadata": {
        "colab": {
          "base_uri": "https://localhost:8080/",
          "height": 35
        },
        "id": "M9_Rwl5Hi_V8",
        "outputId": "ceadcc43-e3c4-48ea-e083-0190b27eb55a"
      },
      "execution_count": null,
      "outputs": [
        {
          "output_type": "execute_result",
          "data": {
            "text/plain": [
              "'naht'"
            ],
            "application/vnd.google.colaboratory.intrinsic+json": {
              "type": "string"
            }
          },
          "metadata": {},
          "execution_count": 33
        }
      ]
    },
    {
      "cell_type": "code",
      "source": [
        "myTuple = 10,20\n",
        "print(type(myTuple))"
      ],
      "metadata": {
        "colab": {
          "base_uri": "https://localhost:8080/"
        },
        "id": "35DFfw84jFGt",
        "outputId": "1a45ddea-2f26-416b-87ff-5f726e8a2192"
      },
      "execution_count": null,
      "outputs": [
        {
          "output_type": "stream",
          "name": "stdout",
          "text": [
            "<class 'tuple'>\n"
          ]
        }
      ]
    },
    {
      "cell_type": "code",
      "source": [
        "firstSet = ({10,20,30,40,50})\n",
        "firstSet"
      ],
      "metadata": {
        "colab": {
          "base_uri": "https://localhost:8080/"
        },
        "id": "3NtWM7bSsbTs",
        "outputId": "62ab49fa-51b5-471f-eb1b-f8945aa60b52"
      },
      "execution_count": null,
      "outputs": [
        {
          "output_type": "execute_result",
          "data": {
            "text/plain": [
              "{10, 20, 30, 40, 50}"
            ]
          },
          "metadata": {},
          "execution_count": 35
        }
      ]
    },
    {
      "cell_type": "code",
      "source": [
        "secondSet = ({70,90,10,40,60,100,110})\n",
        "secondSet"
      ],
      "metadata": {
        "colab": {
          "base_uri": "https://localhost:8080/"
        },
        "id": "CrXfqFWN4EwW",
        "outputId": "23a3419b-5355-4c28-e5d1-bc3a9f67c991"
      },
      "execution_count": null,
      "outputs": [
        {
          "output_type": "execute_result",
          "data": {
            "text/plain": [
              "{10, 40, 60, 70, 90, 100, 110}"
            ]
          },
          "metadata": {},
          "execution_count": 36
        }
      ]
    },
    {
      "cell_type": "code",
      "source": [
        "firstSet.union(secondSet)"
      ],
      "metadata": {
        "colab": {
          "base_uri": "https://localhost:8080/"
        },
        "id": "aNEQdxYn4LxY",
        "outputId": "3ed58c25-8139-4296-c36b-e4048e82a3f8"
      },
      "execution_count": null,
      "outputs": [
        {
          "output_type": "execute_result",
          "data": {
            "text/plain": [
              "{10, 20, 30, 40, 50, 60, 70, 90, 100, 110}"
            ]
          },
          "metadata": {},
          "execution_count": 37
        }
      ]
    },
    {
      "cell_type": "code",
      "source": [
        "firstSet.intersection(secondSet)"
      ],
      "metadata": {
        "colab": {
          "base_uri": "https://localhost:8080/"
        },
        "id": "zeqW6CAV4Pxd",
        "outputId": "5d57e88d-e010-4288-c602-5c25d1ae2f89"
      },
      "execution_count": null,
      "outputs": [
        {
          "output_type": "execute_result",
          "data": {
            "text/plain": [
              "{10, 40}"
            ]
          },
          "metadata": {},
          "execution_count": 38
        }
      ]
    },
    {
      "cell_type": "code",
      "source": [
        "firstSet.issubset(secondSet)"
      ],
      "metadata": {
        "colab": {
          "base_uri": "https://localhost:8080/"
        },
        "id": "xqKtNU0i4UZb",
        "outputId": "9eacca05-74c1-4b5c-e3fb-044f6e812239"
      },
      "execution_count": null,
      "outputs": [
        {
          "output_type": "execute_result",
          "data": {
            "text/plain": [
              "False"
            ]
          },
          "metadata": {},
          "execution_count": 39
        }
      ]
    },
    {
      "cell_type": "code",
      "source": [
        "thirdSet = ({100,90,80,10,20,30,40,50})"
      ],
      "metadata": {
        "id": "okNNjKv54csA"
      },
      "execution_count": null,
      "outputs": []
    },
    {
      "cell_type": "code",
      "source": [
        "firstSet.issubset(thirdSet)"
      ],
      "metadata": {
        "colab": {
          "base_uri": "https://localhost:8080/"
        },
        "id": "XwCnNv3O4j9-",
        "outputId": "8d820237-91d7-49ba-ff2a-beb6fcf3ae50"
      },
      "execution_count": null,
      "outputs": [
        {
          "output_type": "execute_result",
          "data": {
            "text/plain": [
              "True"
            ]
          },
          "metadata": {},
          "execution_count": 41
        }
      ]
    },
    {
      "cell_type": "code",
      "source": [
        "firstSet.difference(secondSet)"
      ],
      "metadata": {
        "colab": {
          "base_uri": "https://localhost:8080/"
        },
        "id": "FYDX7Arc4n-u",
        "outputId": "b26ecda8-9743-476a-9b18-e28e3743464c"
      },
      "execution_count": null,
      "outputs": [
        {
          "output_type": "execute_result",
          "data": {
            "text/plain": [
              "{20, 30, 50}"
            ]
          },
          "metadata": {},
          "execution_count": 42
        }
      ]
    },
    {
      "cell_type": "code",
      "source": [
        "secondSet.difference(firstSet)"
      ],
      "metadata": {
        "colab": {
          "base_uri": "https://localhost:8080/"
        },
        "id": "GNbbhXz84rlZ",
        "outputId": "12cc7545-f612-4bef-8acd-345d5224167a"
      },
      "execution_count": null,
      "outputs": [
        {
          "output_type": "execute_result",
          "data": {
            "text/plain": [
              "{60, 70, 90, 100, 110}"
            ]
          },
          "metadata": {},
          "execution_count": 43
        }
      ]
    },
    {
      "cell_type": "code",
      "source": [
        "firstSet - secondSet"
      ],
      "metadata": {
        "colab": {
          "base_uri": "https://localhost:8080/"
        },
        "id": "v_1sbazo42v_",
        "outputId": "7b24fb11-8449-4159-99a8-2bf21fe5ba9f"
      },
      "execution_count": null,
      "outputs": [
        {
          "output_type": "execute_result",
          "data": {
            "text/plain": [
              "{20, 30, 50}"
            ]
          },
          "metadata": {},
          "execution_count": 44
        }
      ]
    },
    {
      "cell_type": "code",
      "source": [
        "secondSet - firstSet"
      ],
      "metadata": {
        "colab": {
          "base_uri": "https://localhost:8080/"
        },
        "id": "hNNIDnFz5dnz",
        "outputId": "b41045e3-8ecf-496a-e1bd-bbd867a8d624"
      },
      "execution_count": null,
      "outputs": [
        {
          "output_type": "execute_result",
          "data": {
            "text/plain": [
              "{60, 70, 90, 100, 110}"
            ]
          },
          "metadata": {},
          "execution_count": 45
        }
      ]
    },
    {
      "cell_type": "code",
      "source": [
        "a = input(\"Please enter user data:\")\n",
        "\n",
        "if (type(a) is str):\n",
        "  myList = a.split()\n",
        "  print (myList)\n",
        "  set_a = set(myList)\n",
        "  print((set_a))\n",
        "else: \n",
        "  print(\"Not a string\")"
      ],
      "metadata": {
        "colab": {
          "base_uri": "https://localhost:8080/"
        },
        "id": "D8LBIC3U5joe",
        "outputId": "b7bb1a57-fb58-41eb-f728-0f649b2c2073"
      },
      "execution_count": null,
      "outputs": [
        {
          "output_type": "stream",
          "name": "stdout",
          "text": [
            "Please enter user data:hey hey hello welcome welcome string\n",
            "['hey', 'hey', 'hello', 'welcome', 'welcome', 'string']\n",
            "{'welcome', 'string', 'hey', 'hello'}\n"
          ]
        }
      ]
    },
    {
      "cell_type": "code",
      "source": [
        "for rows in range(1,5):\n",
        "  for cols in range(1,rows+1):\n",
        "    print(\"*\", end = \" \")\n",
        "  print(\"\\n\")"
      ],
      "metadata": {
        "colab": {
          "base_uri": "https://localhost:8080/"
        },
        "id": "6p28oUps7iO_",
        "outputId": "0d8b34a0-434a-4ee4-8a4f-5736de2a773d"
      },
      "execution_count": null,
      "outputs": [
        {
          "output_type": "stream",
          "name": "stdout",
          "text": [
            "* \n",
            "\n",
            "* * \n",
            "\n",
            "* * * \n",
            "\n",
            "* * * * \n",
            "\n"
          ]
        }
      ]
    },
    {
      "cell_type": "code",
      "source": [
        "for rows in range(1,5):\n",
        "  for cols in range(1,rows+1):\n",
        "    print(cols, end = \" \")\n",
        "  print(\"\\n\")"
      ],
      "metadata": {
        "colab": {
          "base_uri": "https://localhost:8080/"
        },
        "id": "vylF6UwkGhBj",
        "outputId": "04bed118-b3ef-4576-f78d-1c99f32437ab"
      },
      "execution_count": null,
      "outputs": [
        {
          "output_type": "stream",
          "name": "stdout",
          "text": [
            "1 \n",
            "\n",
            "1 2 \n",
            "\n",
            "1 2 3 \n",
            "\n",
            "1 2 3 4 \n",
            "\n"
          ]
        }
      ]
    },
    {
      "cell_type": "code",
      "source": [
        "y = 0\n",
        "for rows in range(1,5):\n",
        "  for cols in range(1,rows+1):\n",
        "    y +=1\n",
        "    print(\"*\"*(5-y))\n",
        "  print(\"\\n\")"
      ],
      "metadata": {
        "colab": {
          "base_uri": "https://localhost:8080/"
        },
        "id": "aRLVpyqfH_FC",
        "outputId": "8de85ff4-cd7b-4544-a574-571b062ebd21"
      },
      "execution_count": 2,
      "outputs": [
        {
          "output_type": "stream",
          "name": "stdout",
          "text": [
            "****\n",
            "\n",
            "\n",
            "***\n",
            "**\n",
            "\n",
            "\n",
            "*\n",
            "\n",
            "\n",
            "\n",
            "\n",
            "\n",
            "\n",
            "\n",
            "\n",
            "\n",
            "\n"
          ]
        }
      ]
    },
    {
      "cell_type": "code",
      "source": [
        "y = 0\n",
        "for rows in range(1,5):\n",
        "  for cols in range(1,rows+1):\n",
        "    y +=1\n",
        "    print(y, end = \" \")\n",
        "  print(\"\\n\")"
      ],
      "metadata": {
        "colab": {
          "base_uri": "https://localhost:8080/"
        },
        "id": "jnp0zTXFIT1t",
        "outputId": "2cc58ee1-6954-4a6e-c2bb-57e53e068bae"
      },
      "execution_count": null,
      "outputs": [
        {
          "output_type": "stream",
          "name": "stdout",
          "text": [
            "1 \n",
            "\n",
            "2 3 \n",
            "\n",
            "4 5 6 \n",
            "\n",
            "7 8 9 10 \n",
            "\n"
          ]
        }
      ]
    },
    {
      "cell_type": "markdown",
      "source": [
        "## DAY 2"
      ],
      "metadata": {
        "id": "CuU0-cgRZskr"
      }
    },
    {
      "cell_type": "code",
      "source": [
        "def greeting(uname):\n",
        "  print(\"Hey\",uname)"
      ],
      "metadata": {
        "id": "wBlkjSIbZ18l"
      },
      "execution_count": null,
      "outputs": []
    },
    {
      "cell_type": "code",
      "source": [
        "greeting(\"VShah\")\n",
        "greeting(\"Tushar\")"
      ],
      "metadata": {
        "colab": {
          "base_uri": "https://localhost:8080/"
        },
        "id": "ZtfieLN6Z69z",
        "outputId": "ad16f4ad-e51e-4c59-c83e-5b038935e46f"
      },
      "execution_count": null,
      "outputs": [
        {
          "output_type": "stream",
          "name": "stdout",
          "text": [
            "Hey VShah\n",
            "Hey Tushar\n"
          ]
        }
      ]
    },
    {
      "cell_type": "code",
      "source": [
        "def swap(x,y):\n",
        "  x,y = y,x\n",
        "  print(f\"After Swapping: X = {x} and Y = {y}\")"
      ],
      "metadata": {
        "id": "RL1W6DuUZ-qq"
      },
      "execution_count": null,
      "outputs": []
    },
    {
      "cell_type": "code",
      "source": [
        "x = input(\"X = \")\n",
        "y = input(\"Y = \")\n",
        "\n",
        "swap(x,y)"
      ],
      "metadata": {
        "colab": {
          "base_uri": "https://localhost:8080/"
        },
        "id": "dDuOYmn3bfwp",
        "outputId": "83ab2c3e-02f4-4800-ded1-69ab0b487ecf"
      },
      "execution_count": null,
      "outputs": [
        {
          "output_type": "stream",
          "name": "stdout",
          "text": [
            "X = 10\n",
            "Y = 20\n",
            "After Swapping: X = 20 and Y = 10\n"
          ]
        }
      ]
    },
    {
      "cell_type": "code",
      "source": [
        "def listup(mylist):\n",
        "  i = 0\n",
        "\n",
        "  while i<len(mylist):\n",
        "    mylist[i] = mylist[i]+1\n",
        "    i+=1"
      ],
      "metadata": {
        "id": "nSDjbmpUceNi"
      },
      "execution_count": null,
      "outputs": []
    },
    {
      "cell_type": "code",
      "source": [
        "ml = [10,20,30]\n",
        "listup(ml)\n",
        "print(ml)"
      ],
      "metadata": {
        "colab": {
          "base_uri": "https://localhost:8080/"
        },
        "id": "NVwWyHP0ezIs",
        "outputId": "edef52cc-11f9-4acd-9697-c1cd9677bd43"
      },
      "execution_count": null,
      "outputs": [
        {
          "output_type": "stream",
          "name": "stdout",
          "text": [
            "[11, 21, 31]\n"
          ]
        }
      ]
    },
    {
      "cell_type": "code",
      "source": [
        "def palindrome(x):\n",
        "  return x == x[::-1]\n",
        "\n",
        "y = \"NAMANA\"\n",
        "ans = palindrome(y)\n",
        "\n",
        "if ans:\n",
        "  print(\"PALINDROME\")\n",
        "else:\n",
        "  print(\"NOT\")\n"
      ],
      "metadata": {
        "colab": {
          "base_uri": "https://localhost:8080/"
        },
        "id": "yVSE_r_-fUUD",
        "outputId": "e7f373eb-0f67-4158-db44-b65e5fcfd760"
      },
      "execution_count": null,
      "outputs": [
        {
          "output_type": "stream",
          "name": "stdout",
          "text": [
            "NOT\n"
          ]
        }
      ]
    },
    {
      "cell_type": "code",
      "source": [
        "def insta(**detail):\n",
        "  print(detail,type(detail))\n"
      ],
      "metadata": {
        "id": "oiVwyToskW6b"
      },
      "execution_count": null,
      "outputs": []
    },
    {
      "cell_type": "code",
      "source": [
        "insta(uName =\"hey\",website=\"www.com\",id = 123)"
      ],
      "metadata": {
        "colab": {
          "base_uri": "https://localhost:8080/"
        },
        "id": "nyZV4rgvmEhI",
        "outputId": "fce89b25-60e6-43d2-e1be-c45b80f96ec2"
      },
      "execution_count": null,
      "outputs": [
        {
          "output_type": "stream",
          "name": "stdout",
          "text": [
            "{'uName': 'hey', 'website': 'www.com', 'id': 123} <class 'dict'>\n"
          ]
        }
      ]
    },
    {
      "cell_type": "code",
      "source": [
        "insta(\"Hey\",123,456)"
      ],
      "metadata": {
        "colab": {
          "base_uri": "https://localhost:8080/"
        },
        "id": "UCAPRjIEksrR",
        "outputId": "57c56c66-c04d-45fa-e83b-02530fa28115"
      },
      "execution_count": null,
      "outputs": [
        {
          "output_type": "stream",
          "name": "stdout",
          "text": [
            "('Hey', 123, 456) <class 'tuple'>\n"
          ]
        }
      ]
    },
    {
      "cell_type": "code",
      "source": [
        "def lcm(a,b):\n",
        "  if a>b:\n",
        "    greater = a\n",
        "  else:\n",
        "    greater = b\n",
        "\n",
        "  while(True):\n",
        "    if ((greater % a==0) and (greater % b==0)):\n",
        "      lcm = greater\n",
        "      break\n",
        "    greater = greater + 1\n",
        "  return lcm\n",
        "  # print(\"LCM is:\",lcm)"
      ],
      "metadata": {
        "id": "fLduQKAYk3FR"
      },
      "execution_count": null,
      "outputs": []
    },
    {
      "cell_type": "code",
      "source": [
        "ans = lcm(10,20)\n",
        "print(ans)"
      ],
      "metadata": {
        "colab": {
          "base_uri": "https://localhost:8080/"
        },
        "id": "xIRGR2HHrtS0",
        "outputId": "6419d07a-5d2b-4fb4-dfef-1d4a9f41694b"
      },
      "execution_count": null,
      "outputs": [
        {
          "output_type": "stream",
          "name": "stdout",
          "text": [
            "20\n"
          ]
        }
      ]
    },
    {
      "cell_type": "code",
      "source": [
        "x = 3\n",
        "y = 5\n",
        "\n",
        "lcm(x,y)"
      ],
      "metadata": {
        "colab": {
          "base_uri": "https://localhost:8080/"
        },
        "id": "IwRXf4xJorhR",
        "outputId": "e4c0f273-794c-42a8-8fd8-f2d9736d5b6d"
      },
      "execution_count": null,
      "outputs": [
        {
          "output_type": "stream",
          "name": "stdout",
          "text": [
            "LCM is: 15\n"
          ]
        }
      ]
    },
    {
      "cell_type": "code",
      "source": [
        "def abc():\n",
        "  print(\"hey\")"
      ],
      "metadata": {
        "id": "E_uySuzFq-VT"
      },
      "execution_count": null,
      "outputs": []
    },
    {
      "cell_type": "code",
      "source": [
        "x = abc\n",
        "x()"
      ],
      "metadata": {
        "colab": {
          "base_uri": "https://localhost:8080/"
        },
        "id": "TRgbHxqTsWFm",
        "outputId": "fac77628-8bcf-45f0-e1b1-828939a59b4b"
      },
      "execution_count": null,
      "outputs": [
        {
          "output_type": "stream",
          "name": "stdout",
          "text": [
            "hey\n"
          ]
        }
      ]
    },
    {
      "cell_type": "code",
      "source": [
        "a = lambda num:num**2"
      ],
      "metadata": {
        "id": "uys5U7GgsZEO"
      },
      "execution_count": null,
      "outputs": []
    },
    {
      "cell_type": "code",
      "source": [
        "a"
      ],
      "metadata": {
        "colab": {
          "base_uri": "https://localhost:8080/"
        },
        "id": "soyg2dVLs6bm",
        "outputId": "cd030434-1f3f-4340-f89f-d1f6c6014aab"
      },
      "execution_count": null,
      "outputs": [
        {
          "output_type": "execute_result",
          "data": {
            "text/plain": [
              "<function __main__.<lambda>(num)>"
            ]
          },
          "metadata": {},
          "execution_count": 50
        }
      ]
    },
    {
      "cell_type": "code",
      "source": [
        "a(2)"
      ],
      "metadata": {
        "colab": {
          "base_uri": "https://localhost:8080/"
        },
        "id": "jSOr7p4stGxu",
        "outputId": "d74b8b84-ebc6-4e99-aa30-1725a77b4c0b"
      },
      "execution_count": null,
      "outputs": [
        {
          "output_type": "execute_result",
          "data": {
            "text/plain": [
              "4"
            ]
          },
          "metadata": {},
          "execution_count": 51
        }
      ]
    },
    {
      "cell_type": "code",
      "source": [
        "mylist = [10,20,30]"
      ],
      "metadata": {
        "id": "cfTPvDsetJAX"
      },
      "execution_count": null,
      "outputs": []
    },
    {
      "cell_type": "code",
      "source": [
        "list(map(lambda x:x**2, mylist))"
      ],
      "metadata": {
        "colab": {
          "base_uri": "https://localhost:8080/"
        },
        "id": "7yu5oV-iuVrp",
        "outputId": "05ac0d9d-cf35-4b65-f39a-9e5aff284223"
      },
      "execution_count": null,
      "outputs": [
        {
          "output_type": "execute_result",
          "data": {
            "text/plain": [
              "[100, 400, 900]"
            ]
          },
          "metadata": {},
          "execution_count": 53
        }
      ]
    },
    {
      "cell_type": "code",
      "source": [
        "a = lambda **details: print(details)"
      ],
      "metadata": {
        "id": "Gj9H5pFbubRP"
      },
      "execution_count": null,
      "outputs": []
    },
    {
      "cell_type": "code",
      "source": [
        "a(uname = \"Hey\",uid = 123)"
      ],
      "metadata": {
        "colab": {
          "base_uri": "https://localhost:8080/"
        },
        "id": "skJrayeovDZo",
        "outputId": "1a91805e-1ae8-46f9-8571-3a0a52f3ec87"
      },
      "execution_count": null,
      "outputs": [
        {
          "output_type": "stream",
          "name": "stdout",
          "text": [
            "{'uname': 'Hey', 'uid': 123}\n"
          ]
        }
      ]
    },
    {
      "cell_type": "code",
      "source": [
        "a(uid = 123, web=\"www.abc.com\", uname=\"Hey\")"
      ],
      "metadata": {
        "colab": {
          "base_uri": "https://localhost:8080/"
        },
        "id": "Kl8lFQ8avKSm",
        "outputId": "08568d7e-fb38-43d6-bf99-6760bc2c5033"
      },
      "execution_count": null,
      "outputs": [
        {
          "output_type": "stream",
          "name": "stdout",
          "text": [
            "{'uid': 123, 'web': 'www.abc.com', 'uname': 'Hey'}\n"
          ]
        }
      ]
    },
    {
      "cell_type": "code",
      "source": [
        "#PASSWORD VALIDATION\n",
        "\n",
        "for i in range(1,4):\n",
        "  password = input(\"Please enter password:\")\n",
        "  l , c, sp , n = 0,0,0,0\n",
        "  if type(password)==str:\n",
        "    if(5<=len(password)<=16):\n",
        "      for j in password:\n",
        "        if(97<=ord(j)<=122 ):\n",
        "          l = l+1\n",
        "        if(65<=ord(j)<=90):\n",
        "          c = c+1\n",
        "        if(48<=ord(j)<=57):\n",
        "          n = n+1\n",
        "        if(j == '$' or j =='!' or j =='@' or j=='^'):\n",
        "          sp = sp +1\n",
        "  if(l>=1 and c>=1 and c>=1 and sp>=1):\n",
        "    print(\"Password Validated\")\n",
        "    break\n",
        "  else:\n",
        "    print(\"Password not validated\")\n",
        "    \n",
        "\n",
        "\n"
      ],
      "metadata": {
        "colab": {
          "base_uri": "https://localhost:8080/"
        },
        "id": "dujWQfjNvPKR",
        "outputId": "84b32dbf-af24-49c0-8f3a-bef11f8700be"
      },
      "execution_count": null,
      "outputs": [
        {
          "output_type": "stream",
          "name": "stdout",
          "text": [
            "Please enter password:Abc\n",
            "Password not validated\n",
            "Please enter password:Abc@\n",
            "Password not validated\n",
            "Please enter password:Abc@123\n",
            "Password Validated\n"
          ]
        }
      ]
    },
    {
      "cell_type": "code",
      "source": [
        "def numberdata(num):\n",
        "  assert (num>0),\"User has provided negative number\"\n",
        "  print(num)"
      ],
      "metadata": {
        "id": "5UrsV7qHzNZ2"
      },
      "execution_count": null,
      "outputs": []
    },
    {
      "cell_type": "code",
      "source": [
        "numberdata(10)"
      ],
      "metadata": {
        "colab": {
          "base_uri": "https://localhost:8080/"
        },
        "id": "J6D0tqlW_afT",
        "outputId": "f5f7c221-7ecc-44f4-fec0-5a066f4bbb9b"
      },
      "execution_count": null,
      "outputs": [
        {
          "output_type": "stream",
          "name": "stdout",
          "text": [
            "10\n"
          ]
        }
      ]
    },
    {
      "cell_type": "code",
      "source": [
        "numberdata(-11)"
      ],
      "metadata": {
        "colab": {
          "base_uri": "https://localhost:8080/",
          "height": 253
        },
        "id": "aGxy3cm1_cfq",
        "outputId": "2bc8549a-5767-458e-d2d6-01e07f88e65d"
      },
      "execution_count": null,
      "outputs": [
        {
          "output_type": "error",
          "ename": "AssertionError",
          "evalue": "ignored",
          "traceback": [
            "\u001b[0;31m---------------------------------------------------------------------------\u001b[0m",
            "\u001b[0;31mAssertionError\u001b[0m                            Traceback (most recent call last)",
            "\u001b[0;32m<ipython-input-69-e2e921a18727>\u001b[0m in \u001b[0;36m<module>\u001b[0;34m\u001b[0m\n\u001b[0;32m----> 1\u001b[0;31m \u001b[0mnumberdata\u001b[0m\u001b[0;34m(\u001b[0m\u001b[0;34m-\u001b[0m\u001b[0;36m11\u001b[0m\u001b[0;34m)\u001b[0m\u001b[0;34m\u001b[0m\u001b[0;34m\u001b[0m\u001b[0m\n\u001b[0m",
            "\u001b[0;32m<ipython-input-65-196269850ae2>\u001b[0m in \u001b[0;36mnumberdata\u001b[0;34m(num)\u001b[0m\n\u001b[1;32m      1\u001b[0m \u001b[0;32mdef\u001b[0m \u001b[0mnumberdata\u001b[0m\u001b[0;34m(\u001b[0m\u001b[0mnum\u001b[0m\u001b[0;34m)\u001b[0m\u001b[0;34m:\u001b[0m\u001b[0;34m\u001b[0m\u001b[0;34m\u001b[0m\u001b[0m\n\u001b[0;32m----> 2\u001b[0;31m   \u001b[0;32massert\u001b[0m \u001b[0;34m(\u001b[0m\u001b[0mnum\u001b[0m\u001b[0;34m>\u001b[0m\u001b[0;36m0\u001b[0m\u001b[0;34m)\u001b[0m\u001b[0;34m,\u001b[0m\u001b[0;34m\"User has provided negative number\"\u001b[0m\u001b[0;34m\u001b[0m\u001b[0;34m\u001b[0m\u001b[0m\n\u001b[0m\u001b[1;32m      3\u001b[0m   \u001b[0mprint\u001b[0m\u001b[0;34m(\u001b[0m\u001b[0mnum\u001b[0m\u001b[0;34m)\u001b[0m\u001b[0;34m\u001b[0m\u001b[0;34m\u001b[0m\u001b[0m\n",
            "\u001b[0;31mAssertionError\u001b[0m: User has provided negative number"
          ]
        }
      ]
    },
    {
      "cell_type": "code",
      "source": [
        "# Print the factors of the number\n",
        "\n",
        "\n",
        "def factor(num):\n",
        "  for i in range(1,num+1):\n",
        "    if (num%i)==0:\n",
        "      print(i)\n"
      ],
      "metadata": {
        "id": "46ApXbtQ_sMo"
      },
      "execution_count": null,
      "outputs": []
    },
    {
      "cell_type": "code",
      "source": [
        "num = int(input(\"Enter the number:\"))\n",
        "factor(num)"
      ],
      "metadata": {
        "colab": {
          "base_uri": "https://localhost:8080/"
        },
        "id": "2yKJal9HJkn0",
        "outputId": "1ad63ae9-8b17-45fe-a126-308e7864aab5"
      },
      "execution_count": null,
      "outputs": [
        {
          "output_type": "stream",
          "name": "stdout",
          "text": [
            "Enter the number:100\n",
            "1\n",
            "2\n",
            "4\n",
            "5\n",
            "10\n",
            "20\n",
            "25\n",
            "50\n",
            "100\n"
          ]
        }
      ]
    },
    {
      "cell_type": "code",
      "source": [],
      "metadata": {
        "id": "hGojU4MuLPrN"
      },
      "execution_count": null,
      "outputs": []
    }
  ]
}